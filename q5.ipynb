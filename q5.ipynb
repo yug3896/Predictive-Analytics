{
 "cells": [
  {
   "cell_type": "code",
   "execution_count": 36,
   "id": "553d92b2-2160-44df-bf69-3a5682d0d673",
   "metadata": {},
   "outputs": [],
   "source": [
    "import os\n",
    "import pandas as pd\n",
    "import numpy as np\n",
    "import seaborn as sns\n",
    "import matplotlib.pyplot as plt\n",
    "import statsmodels.api as sm\n",
    "pd.set_option('display.max_columns', 4)"
   ]
  },
  {
   "cell_type": "code",
   "execution_count": 4,
   "id": "2041a2af-13ed-43ae-bdfe-a58c5751ac9f",
   "metadata": {},
   "outputs": [],
   "source": [
    "\n",
    "os.chdir('C://Users//Sambid.Pradhan//Documents/')"
   ]
  },
  {
   "cell_type": "markdown",
   "id": "2b5f56b5-92e6-4e74-b420-33986bc4e5f7",
   "metadata": {},
   "source": [
    "## A"
   ]
  },
  {
   "cell_type": "code",
   "execution_count": 5,
   "id": "a6ddaa67-f842-42e9-a9af-dd33fb0cfcea",
   "metadata": {},
   "outputs": [],
   "source": [
    "data=pd.read_csv(\"BA ZG512 Ecommerce-Customers.csv\")"
   ]
  },
  {
   "cell_type": "code",
   "execution_count": 17,
   "id": "1dde00fa-38c2-48da-a03d-f233e23bf939",
   "metadata": {},
   "outputs": [
    {
     "data": {
      "text/html": [
       "<div>\n",
       "<style scoped>\n",
       "    .dataframe tbody tr th:only-of-type {\n",
       "        vertical-align: middle;\n",
       "    }\n",
       "\n",
       "    .dataframe tbody tr th {\n",
       "        vertical-align: top;\n",
       "    }\n",
       "\n",
       "    .dataframe thead th {\n",
       "        text-align: right;\n",
       "    }\n",
       "</style>\n",
       "<table border=\"1\" class=\"dataframe\">\n",
       "  <thead>\n",
       "    <tr style=\"text-align: right;\">\n",
       "      <th></th>\n",
       "      <th>Email</th>\n",
       "      <th>Address</th>\n",
       "      <th>...</th>\n",
       "      <th>Length of Membership</th>\n",
       "      <th>Yearly Amount Spent</th>\n",
       "    </tr>\n",
       "  </thead>\n",
       "  <tbody>\n",
       "    <tr>\n",
       "      <th>0</th>\n",
       "      <td>mstephenson@fernandez.com</td>\n",
       "      <td>835 Frank Tunnel\\nWrightmouth, MI 82180-9605</td>\n",
       "      <td>...</td>\n",
       "      <td>4.082621</td>\n",
       "      <td>587.951054</td>\n",
       "    </tr>\n",
       "    <tr>\n",
       "      <th>1</th>\n",
       "      <td>hduke@hotmail.com</td>\n",
       "      <td>4547 Archer Common\\nDiazchester, CA 06566-8576</td>\n",
       "      <td>...</td>\n",
       "      <td>2.664034</td>\n",
       "      <td>392.204933</td>\n",
       "    </tr>\n",
       "    <tr>\n",
       "      <th>2</th>\n",
       "      <td>pallen@yahoo.com</td>\n",
       "      <td>24645 Valerie Unions Suite 582\\nCobbborough, D...</td>\n",
       "      <td>...</td>\n",
       "      <td>4.104543</td>\n",
       "      <td>487.547505</td>\n",
       "    </tr>\n",
       "    <tr>\n",
       "      <th>3</th>\n",
       "      <td>riverarebecca@gmail.com</td>\n",
       "      <td>1414 David Throughway\\nPort Jason, OH 22070-1220</td>\n",
       "      <td>...</td>\n",
       "      <td>3.120179</td>\n",
       "      <td>581.852344</td>\n",
       "    </tr>\n",
       "    <tr>\n",
       "      <th>4</th>\n",
       "      <td>mstephens@davidson-herman.com</td>\n",
       "      <td>14023 Rodriguez Passage\\nPort Jacobville, PR 3...</td>\n",
       "      <td>...</td>\n",
       "      <td>4.446308</td>\n",
       "      <td>599.406092</td>\n",
       "    </tr>\n",
       "  </tbody>\n",
       "</table>\n",
       "<p>5 rows × 8 columns</p>\n",
       "</div>"
      ],
      "text/plain": [
       "                           Email  \\\n",
       "0      mstephenson@fernandez.com   \n",
       "1              hduke@hotmail.com   \n",
       "2               pallen@yahoo.com   \n",
       "3        riverarebecca@gmail.com   \n",
       "4  mstephens@davidson-herman.com   \n",
       "\n",
       "                                             Address  ...  \\\n",
       "0       835 Frank Tunnel\\nWrightmouth, MI 82180-9605  ...   \n",
       "1     4547 Archer Common\\nDiazchester, CA 06566-8576  ...   \n",
       "2  24645 Valerie Unions Suite 582\\nCobbborough, D...  ...   \n",
       "3   1414 David Throughway\\nPort Jason, OH 22070-1220  ...   \n",
       "4  14023 Rodriguez Passage\\nPort Jacobville, PR 3...  ...   \n",
       "\n",
       "  Length of Membership  Yearly Amount Spent  \n",
       "0             4.082621           587.951054  \n",
       "1             2.664034           392.204933  \n",
       "2             4.104543           487.547505  \n",
       "3             3.120179           581.852344  \n",
       "4             4.446308           599.406092  \n",
       "\n",
       "[5 rows x 8 columns]"
      ]
     },
     "execution_count": 17,
     "metadata": {},
     "output_type": "execute_result"
    }
   ],
   "source": [
    "data[0:5]"
   ]
  },
  {
   "cell_type": "markdown",
   "id": "8c07556a-7ecc-444b-9aa1-4748c3ac0c2c",
   "metadata": {},
   "source": [
    "# B"
   ]
  },
  {
   "cell_type": "code",
   "execution_count": 16,
   "id": "291f1426-3115-4247-b95a-638337de82c9",
   "metadata": {},
   "outputs": [
    {
     "data": {
      "text/plain": [
       "<AxesSubplot:>"
      ]
     },
     "execution_count": 16,
     "metadata": {},
     "output_type": "execute_result"
    },
    {
     "data": {
      "image/png": "[encoded data removed]",
      "text/plain": [
       "<Figure size 432x288 with 2 Axes>"
      ]
     },
     "metadata": {
      "needs_background": "light"
     },
     "output_type": "display_data"
    }
   ],
   "source": [
    "corr = data.corr()\n",
    "sns.heatmap(corr, cmap=\"Blues\", annot=True)"
   ]
  },
  {
   "cell_type": "markdown",
   "id": "8f66ee4e-6df9-4b25-ac5d-42ff4c587ff0",
   "metadata": {},
   "source": [
    "## There seems be a linear relationship between Length of Membership and Yearly Amount Spent.This is a strong positive linear relationship"
   ]
  },
  {
   "cell_type": "markdown",
   "id": "ab0b10d6-f097-4c7c-9f97-b917aa00b9bc",
   "metadata": {},
   "source": [
    "## C"
   ]
  },
  {
   "cell_type": "code",
   "execution_count": 19,
   "id": "da9e321d-71f4-4893-802c-e092ef8cff67",
   "metadata": {},
   "outputs": [
    {
     "name": "stdout",
     "output_type": "stream",
     "text": [
      "<class 'pandas.core.frame.DataFrame'>\n",
      "RangeIndex: 500 entries, 0 to 499\n",
      "Data columns (total 8 columns):\n",
      " #   Column                Non-Null Count  Dtype  \n",
      "---  ------                --------------  -----  \n",
      " 0   Email                 500 non-null    object \n",
      " 1   Address               500 non-null    object \n",
      " 2   Avatar                500 non-null    object \n",
      " 3   Avg. Session Length   500 non-null    float64\n",
      " 4   Time on App           500 non-null    float64\n",
      " 5   Time on Website       500 non-null    float64\n",
      " 6   Length of Membership  500 non-null    float64\n",
      " 7   Yearly Amount Spent   500 non-null    float64\n",
      "dtypes: float64(5), object(3)\n",
      "memory usage: 31.4+ KB\n"
     ]
    }
   ],
   "source": [
    "data.info()"
   ]
  },
  {
   "cell_type": "code",
   "execution_count": 20,
   "id": "d48e8050-3773-412e-9ec0-73251622d974",
   "metadata": {},
   "outputs": [
    {
     "data": {
      "text/plain": [
       "Email                   0\n",
       "Address                 0\n",
       "Avatar                  0\n",
       "Avg. Session Length     0\n",
       "Time on App             0\n",
       "Time on Website         0\n",
       "Length of Membership    0\n",
       "Yearly Amount Spent     0\n",
       "dtype: int64"
      ]
     },
     "execution_count": 20,
     "metadata": {},
     "output_type": "execute_result"
    }
   ],
   "source": [
    "data.isnull().sum()"
   ]
  },
  {
   "cell_type": "code",
   "execution_count": 29,
   "id": "af58f8b0-f43f-4d50-ab24-855372042691",
   "metadata": {},
   "outputs": [
    {
     "name": "stdout",
     "output_type": "stream",
     "text": [
      "Avatar unique values---- 138\n",
      "Email unique values---- 500\n",
      "Address unique values---- 500\n"
     ]
    }
   ],
   "source": [
    "print(\"Avatar unique values----\",len(data[\"Avatar\"].unique()))\n",
    "print(\"Email unique values----\",len(data[\"Email\"].unique()))\n",
    "print(\"Address unique values----\",len(data[\"Address\"].unique()))"
   ]
  },
  {
   "cell_type": "code",
   "execution_count": 26,
   "id": "7d6688b4-7455-41ac-bde4-67255008397f",
   "metadata": {},
   "outputs": [
    {
     "data": {
      "text/plain": [
       "SlateBlue               7\n",
       "Cyan                    7\n",
       "CadetBlue               7\n",
       "GreenYellow             7\n",
       "Teal                    7\n",
       "                       ..\n",
       "MediumPurple            1\n",
       "CornflowerBlue          1\n",
       "LightGoldenRodYellow    1\n",
       "PowderBlue              1\n",
       "LawnGreen               1\n",
       "Name: Avatar, Length: 138, dtype: int64"
      ]
     },
     "execution_count": 26,
     "metadata": {},
     "output_type": "execute_result"
    }
   ],
   "source": [
    "data[\"Avatar\"].value_counts()"
   ]
  },
  {
   "cell_type": "code",
   "execution_count": 31,
   "id": "b107e509-7389-471b-a607-ab9da2575e91",
   "metadata": {},
   "outputs": [],
   "source": [
    "drop_cols=[\"Avatar\",\"Email\",\"Address\"]\n",
    "data=data.drop(drop_cols,axis=1)"
   ]
  },
  {
   "cell_type": "code",
   "execution_count": 34,
   "id": "e7d3df17-9608-4084-b372-19e6837b0001",
   "metadata": {},
   "outputs": [
    {
     "data": {
      "text/plain": [
       "Index(['Avg. Session Length', 'Time on App', 'Time on Website',\n",
       "       'Length of Membership', 'Yearly Amount Spent'],\n",
       "      dtype='object')"
      ]
     },
     "execution_count": 34,
     "metadata": {},
     "output_type": "execute_result"
    }
   ],
   "source": [
    "data.columns"
   ]
  },
  {
   "cell_type": "code",
   "execution_count": 37,
   "id": "70d11deb-9d47-4008-96b7-768113590bf5",
   "metadata": {},
   "outputs": [],
   "source": [
    "x_feat=['Avg. Session Length', 'Time on App', 'Time on Website','Length of Membership']\n",
    "\n",
    "X=sm.add_constant(data[x_feat])\n",
    "Y=data[\"Yearly Amount Spent\"]"
   ]
  },
  {
   "cell_type": "code",
   "execution_count": 44,
   "id": "349b060e-dd62-44ca-aa21-9da5d0a079fc",
   "metadata": {},
   "outputs": [],
   "source": [
    "lin_model=sm.OLS(Y,X).fit()"
   ]
  },
  {
   "cell_type": "code",
   "execution_count": 45,
   "id": "07f77837-d9b8-4b66-9656-29f15dedf9af",
   "metadata": {},
   "outputs": [
    {
     "data": {
      "text/html": [
       "<table class=\"simpletable\">\n",
       "<tr>\n",
       "        <td>Model:</td>                <td>OLS</td>           <td>Adj. R-squared:</td>     <td>0.984</td>  \n",
       "</tr>\n",
       "<tr>\n",
       "  <td>Dependent Variable:</td> <td>Yearly Amount Spent</td>        <td>AIC:</td>         <td>3723.8197</td>\n",
       "</tr>\n",
       "<tr>\n",
       "         <td>Date:</td>         <td>2022-10-08 09:43</td>          <td>BIC:</td>         <td>3744.8927</td>\n",
       "</tr>\n",
       "<tr>\n",
       "   <td>No. Observations:</td>          <td>500</td>           <td>Log-Likelihood:</td>    <td>-1856.9</td> \n",
       "</tr>\n",
       "<tr>\n",
       "       <td>Df Model:</td>               <td>4</td>             <td>F-statistic:</td>       <td>7766.</td>  \n",
       "</tr>\n",
       "<tr>\n",
       "     <td>Df Residuals:</td>            <td>495</td>         <td>Prob (F-statistic):</td>   <td>0.00</td>   \n",
       "</tr>\n",
       "<tr>\n",
       "      <td>R-squared:</td>             <td>0.984</td>              <td>Scale:</td>         <td>99.466</td>  \n",
       "</tr>\n",
       "</table>\n",
       "<table class=\"simpletable\">\n",
       "<tr>\n",
       "            <td></td>              <th>Coef.</th>   <th>Std.Err.</th>     <th>t</th>     <th>P>|t|</th>   <th>[0.025</th>     <th>0.975]</th>  \n",
       "</tr>\n",
       "<tr>\n",
       "  <th>const</th>                <td>-1051.5943</td>  <td>22.9925</td> <td>-45.7363</td> <td>0.0000</td> <td>-1096.7693</td> <td>-1006.4193</td>\n",
       "</tr>\n",
       "<tr>\n",
       "  <th>Avg. Session Length</th>    <td>25.7343</td>   <td>0.4510</td>   <td>57.0571</td> <td>0.0000</td>   <td>24.8481</td>    <td>26.6204</td> \n",
       "</tr>\n",
       "<tr>\n",
       "  <th>Time on App</th>            <td>38.7092</td>   <td>0.4510</td>   <td>85.8282</td> <td>0.0000</td>   <td>37.8230</td>    <td>39.5953</td> \n",
       "</tr>\n",
       "<tr>\n",
       "  <th>Time on Website</th>        <td>0.4367</td>    <td>0.4441</td>   <td>0.9834</td>  <td>0.3259</td>   <td>-0.4358</td>    <td>1.3093</td>  \n",
       "</tr>\n",
       "<tr>\n",
       "  <th>Length of Membership</th>   <td>61.5773</td>   <td>0.4483</td>  <td>137.3463</td> <td>0.0000</td>   <td>60.6964</td>    <td>62.4582</td> \n",
       "</tr>\n",
       "</table>\n",
       "<table class=\"simpletable\">\n",
       "<tr>\n",
       "     <td>Omnibus:</td>     <td>0.337</td>  <td>Durbin-Watson:</td>   <td>1.887</td>\n",
       "</tr>\n",
       "<tr>\n",
       "  <td>Prob(Omnibus):</td>  <td>0.845</td> <td>Jarque-Bera (JB):</td> <td>0.198</td>\n",
       "</tr>\n",
       "<tr>\n",
       "       <td>Skew:</td>     <td>-0.026</td>     <td>Prob(JB):</td>     <td>0.906</td>\n",
       "</tr>\n",
       "<tr>\n",
       "     <td>Kurtosis:</td>    <td>3.083</td>  <td>Condition No.:</td>   <td>2642</td> \n",
       "</tr>\n",
       "</table>"
      ],
      "text/plain": [
       "<class 'statsmodels.iolib.summary2.Summary'>\n",
       "\"\"\"\n",
       "                       Results: Ordinary least squares\n",
       "==============================================================================\n",
       "Model:                 OLS                    Adj. R-squared:        0.984    \n",
       "Dependent Variable:    Yearly Amount Spent    AIC:                   3723.8197\n",
       "Date:                  2022-10-08 09:43       BIC:                   3744.8927\n",
       "No. Observations:      500                    Log-Likelihood:        -1856.9  \n",
       "Df Model:              4                      F-statistic:           7766.    \n",
       "Df Residuals:          495                    Prob (F-statistic):    0.00     \n",
       "R-squared:             0.984                  Scale:                 99.466   \n",
       "------------------------------------------------------------------------------\n",
       "                       Coef.    Std.Err.    t     P>|t|    [0.025     0.975]  \n",
       "------------------------------------------------------------------------------\n",
       "const                -1051.5943  22.9925 -45.7363 0.0000 -1096.7693 -1006.4193\n",
       "Avg. Session Length     25.7343   0.4510  57.0571 0.0000    24.8481    26.6204\n",
       "Time on App             38.7092   0.4510  85.8282 0.0000    37.8230    39.5953\n",
       "Time on Website          0.4367   0.4441   0.9834 0.3259    -0.4358     1.3093\n",
       "Length of Membership    61.5773   0.4483 137.3463 0.0000    60.6964    62.4582\n",
       "------------------------------------------------------------------------------\n",
       "Omnibus:                  0.337             Durbin-Watson:               1.887\n",
       "Prob(Omnibus):            0.845             Jarque-Bera (JB):            0.198\n",
       "Skew:                     -0.026            Prob(JB):                    0.906\n",
       "Kurtosis:                 3.083             Condition No.:               2642 \n",
       "==============================================================================\n",
       "* The condition number is large (3e+03). This might indicate\n",
       "strong multicollinearity or other numerical problems.\n",
       "\"\"\""
      ]
     },
     "execution_count": 45,
     "metadata": {},
     "output_type": "execute_result"
    }
   ],
   "source": [
    "lin_model.summary2()"
   ]
  },
  {
   "cell_type": "markdown",
   "id": "3d3ddf75-4c4a-4223-ba49-c09c3d9a6d69",
   "metadata": {},
   "source": [
    "### i)Yes there seems to be significant relationship between predictors and the response variable. R2 is close to 1 that means our predictors explain a lot of variability in our model\n",
    "### ii) Avg Session length, Time on App, Length of Membership appear to have a significant relationship with the response as their p value is less than 0.05.\n",
    "### iii) Time on App coefficient indicates that for every single additional time spent on app you can expect the yearly Amount Spent increase by an average of 38.7 dollars.\n",
    "### iv) Time on Website seems insignificant to our model. However we can use transformations , or combine with other features like Time on App, so basically we can calculate total here and use this as a feature. In this way we can use this information and make it more significant for the model"
   ]
  },
  {
   "cell_type": "markdown",
   "id": "8ea1db4c-c526-44aa-a31b-02edf9780363",
   "metadata": {},
   "source": [
    "## D"
   ]
  },
  {
   "cell_type": "code",
   "execution_count": 51,
   "id": "6cf9ec2c-2bcc-4bee-be1b-7cf460582c8b",
   "metadata": {},
   "outputs": [
    {
     "data": {
      "image/png": "[encoded data removed]",
      "text/plain": [
       "<Figure size 432x288 with 1 Axes>"
      ]
     },
     "metadata": {
      "needs_background": "light"
     },
     "output_type": "display_data"
    }
   ],
   "source": [
    "pplot=sm.ProbPlot(lin_model.resid,fit=True).ppplot(line='45')\n",
    "plt.title(\"Normal P-P Plot of Regression Standardized Residuals\")\n",
    "plt.show()"
   ]
  },
  {
   "cell_type": "code",
   "execution_count": 52,
   "id": "42d1973c-4de5-4c21-8ab7-da308de57151",
   "metadata": {},
   "outputs": [],
   "source": [
    "def get_standardized_values(vals):\n",
    "    return (vals-vals.mean())/vals.std()\n",
    "def plot_resid_fitted( fitted, resid, title): \n",
    "    plt.scatter( get_standardized_values( fitted ), \n",
    "                get_standardized_values( resid ) ) \n",
    "    plt.title( title ) \n",
    "    plt.xlabel( \"Standardized predicted values\") \n",
    "    plt.ylabel( \"Standardized residual values\") \n",
    "    plt.show() "
   ]
  },
  {
   "cell_type": "code",
   "execution_count": 53,
   "id": "97d13304-8e4f-4dc4-b1ea-a0a25b095ad8",
   "metadata": {},
   "outputs": [
    {
     "data": {
      "image/png": "[encoded data removed]",
      "text/plain": [
       "<Figure size 432x288 with 1 Axes>"
      ]
     },
     "metadata": {
      "needs_background": "light"
     },
     "output_type": "display_data"
    }
   ],
   "source": [
    "plot_resid_fitted(lin_model.fittedvalues,lin_model.resid,\"Residual Plot\")"
   ]
  },
  {
   "cell_type": "markdown",
   "id": "d535dd10-bb50-43d8-8671-3c63e0045d2d",
   "metadata": {},
   "source": [
    "### Yes the residulas are normally distributed as per PP Plot."
   ]
  },
  {
   "cell_type": "code",
   "execution_count": null,
   "id": "344c4f6a-1116-43df-ad61-d0ebf4d2c566",
   "metadata": {},
   "outputs": [],
   "source": []
  }
 ],
 "metadata": {
  "kernelspec": {
   "display_name": "Python 3 (ipykernel)",
   "language": "python",
   "name": "python3"
  },
  "language_info": {
   "codemirror_mode": {
    "name": "ipython",
    "version": 3
   },
   "file_extension": ".py",
   "mimetype": "text/x-python",
   "name": "python",
   "nbconvert_exporter": "python",
   "pygments_lexer": "ipython3",
   "version": "3.9.7"
  }
 },
 "nbformat": 4,
 "nbformat_minor": 5
}
