{
 "cells": [
  {
   "cell_type": "code",
   "execution_count": 1,
   "id": "41b37a25",
   "metadata": {},
   "outputs": [
    {
     "data": {
      "text/plain": [
       "4"
      ]
     },
     "execution_count": 1,
     "metadata": {},
     "output_type": "execute_result"
    }
   ],
   "source": [
    "4"
   ]
  },
  {
   "cell_type": "code",
   "execution_count": 3,
   "id": "13bde2c8",
   "metadata": {},
   "outputs": [
    {
     "data": {
      "text/plain": [
       "5.666666666666667"
      ]
     },
     "execution_count": 3,
     "metadata": {},
     "output_type": "execute_result"
    }
   ],
   "source": [
    "4+5/3"
   ]
  },
  {
   "cell_type": "code",
   "execution_count": 6,
   "id": "5c6816ae",
   "metadata": {},
   "outputs": [
    {
     "name": "stdout",
     "output_type": "stream",
     "text": [
      "The first b:  6\n",
      "The second b:  10\n"
     ]
    }
   ],
   "source": [
    "a = 4\n",
    "b = a+2\n",
    "print(\"The first b: \", b)\n",
    "\n",
    "a = 7\n",
    "b = a+3\n",
    "print(\"The second b: \", b)"
   ]
  },
  {
   "cell_type": "code",
   "execution_count": 13,
   "id": "1bb7b70b",
   "metadata": {},
   "outputs": [],
   "source": [
    "a = True"
   ]
  },
  {
   "cell_type": "code",
   "execution_count": 14,
   "id": "6b494883",
   "metadata": {},
   "outputs": [
    {
     "data": {
      "text/plain": [
       "bool"
      ]
     },
     "execution_count": 14,
     "metadata": {},
     "output_type": "execute_result"
    }
   ],
   "source": [
    "type(a)"
   ]
  },
  {
   "cell_type": "markdown",
   "id": "0ff68317",
   "metadata": {},
   "source": [
    "#String"
   ]
  },
  {
   "cell_type": "code",
   "execution_count": 16,
   "id": "95e844c0",
   "metadata": {},
   "outputs": [],
   "source": [
    "str1 = \"Data Science\""
   ]
  },
  {
   "cell_type": "code",
   "execution_count": 17,
   "id": "c997511e",
   "metadata": {},
   "outputs": [
    {
     "name": "stdout",
     "output_type": "stream",
     "text": [
      "Data Science\n"
     ]
    }
   ],
   "source": [
    "print(str1)"
   ]
  },
  {
   "cell_type": "code",
   "execution_count": 21,
   "id": "74a3b74a",
   "metadata": {},
   "outputs": [
    {
     "data": {
      "text/plain": [
       "'a'"
      ]
     },
     "execution_count": 21,
     "metadata": {},
     "output_type": "execute_result"
    }
   ],
   "source": [
    "str1[3]"
   ]
  },
  {
   "cell_type": "code",
   "execution_count": 20,
   "id": "79b0de49",
   "metadata": {},
   "outputs": [
    {
     "data": {
      "text/plain": [
       "12"
      ]
     },
     "execution_count": 20,
     "metadata": {},
     "output_type": "execute_result"
    }
   ],
   "source": [
    "len(str1)"
   ]
  },
  {
   "cell_type": "code",
   "execution_count": 30,
   "id": "6cac3636",
   "metadata": {},
   "outputs": [
    {
     "data": {
      "text/plain": [
       "'ata '"
      ]
     },
     "execution_count": 30,
     "metadata": {},
     "output_type": "execute_result"
    }
   ],
   "source": [
    "str1[1:5] #[i:j] -> grab a slice from i to j-1"
   ]
  },
  {
   "cell_type": "code",
   "execution_count": 32,
   "id": "8a0d9aff",
   "metadata": {},
   "outputs": [
    {
     "data": {
      "text/plain": [
       "'ience'"
      ]
     },
     "execution_count": 32,
     "metadata": {},
     "output_type": "execute_result"
    }
   ],
   "source": [
    "str1[-5:]"
   ]
  },
  {
   "cell_type": "markdown",
   "id": "8abab90c",
   "metadata": {},
   "source": [
    "Tuple: it is a collection of immutable Python objects enclosed within paranthesis ()."
   ]
  },
  {
   "cell_type": "code",
   "execution_count": 54,
   "id": "edc2a88b",
   "metadata": {},
   "outputs": [],
   "source": [
    "tup1 = (\"data\", 10, \"science\")"
   ]
  },
  {
   "cell_type": "code",
   "execution_count": 56,
   "id": "451662ff",
   "metadata": {},
   "outputs": [
    {
     "ename": "TypeError",
     "evalue": "'tuple' object does not support item assignment",
     "output_type": "error",
     "traceback": [
      "\u001b[1;31m---------------------------------------------------------------------------\u001b[0m",
      "\u001b[1;31mTypeError\u001b[0m                                 Traceback (most recent call last)",
      "Input \u001b[1;32mIn [56]\u001b[0m, in \u001b[0;36m<cell line: 1>\u001b[1;34m()\u001b[0m\n\u001b[1;32m----> 1\u001b[0m tup1[\u001b[38;5;241m1\u001b[39m] \u001b[38;5;241m=\u001b[39m \u001b[38;5;241m30\u001b[39m\n",
      "\u001b[1;31mTypeError\u001b[0m: 'tuple' object does not support item assignment"
     ]
    }
   ],
   "source": [
    "tup1[1] = 30"
   ]
  },
  {
   "cell_type": "code",
   "execution_count": 35,
   "id": "41d22afe",
   "metadata": {},
   "outputs": [
    {
     "name": "stdout",
     "output_type": "stream",
     "text": [
      "('data', 10, 'science')\n"
     ]
    }
   ],
   "source": [
    "print(tup1)"
   ]
  },
  {
   "cell_type": "code",
   "execution_count": 36,
   "id": "6e217c6d",
   "metadata": {},
   "outputs": [
    {
     "data": {
      "text/plain": [
       "tuple"
      ]
     },
     "execution_count": 36,
     "metadata": {},
     "output_type": "execute_result"
    }
   ],
   "source": [
    "type(tup1)"
   ]
  },
  {
   "cell_type": "code",
   "execution_count": 44,
   "id": "e09be24c",
   "metadata": {},
   "outputs": [
    {
     "data": {
      "text/plain": [
       "'science'"
      ]
     },
     "execution_count": 44,
     "metadata": {},
     "output_type": "execute_result"
    }
   ],
   "source": [
    "tup1[-1]"
   ]
  },
  {
   "cell_type": "markdown",
   "id": "3de4930b",
   "metadata": {},
   "source": [
    "#List - is an ordered collection of elements, unlike arrays, it can contain elements of different data types"
   ]
  },
  {
   "cell_type": "code",
   "execution_count": 67,
   "id": "5e597f04",
   "metadata": {},
   "outputs": [],
   "source": [
    "myList = ['Python', 'Java', 10, 20]"
   ]
  },
  {
   "cell_type": "code",
   "execution_count": 68,
   "id": "00c0eab4",
   "metadata": {},
   "outputs": [
    {
     "data": {
      "text/plain": [
       "str"
      ]
     },
     "execution_count": 68,
     "metadata": {},
     "output_type": "execute_result"
    }
   ],
   "source": [
    "type(myList[0])"
   ]
  },
  {
   "cell_type": "code",
   "execution_count": 69,
   "id": "1cf31535",
   "metadata": {},
   "outputs": [],
   "source": [
    "myList[1] = 'C'"
   ]
  },
  {
   "cell_type": "code",
   "execution_count": 70,
   "id": "7f62b16e",
   "metadata": {},
   "outputs": [
    {
     "data": {
      "text/plain": [
       "['Python', 'C', 10, 20]"
      ]
     },
     "execution_count": 70,
     "metadata": {},
     "output_type": "execute_result"
    }
   ],
   "source": [
    "myList"
   ]
  },
  {
   "cell_type": "code",
   "execution_count": 71,
   "id": "fa7d29d2",
   "metadata": {},
   "outputs": [
    {
     "data": {
      "text/plain": [
       "['Python', 'C', 10, 20]"
      ]
     },
     "execution_count": 71,
     "metadata": {},
     "output_type": "execute_result"
    }
   ],
   "source": [
    "myList"
   ]
  },
  {
   "cell_type": "code",
   "execution_count": 72,
   "id": "be38fcad",
   "metadata": {},
   "outputs": [],
   "source": [
    "myList.append(\"GWbasic\")"
   ]
  },
  {
   "cell_type": "code",
   "execution_count": 73,
   "id": "05e4445a",
   "metadata": {},
   "outputs": [
    {
     "data": {
      "text/plain": [
       "['Python', 'C', 10, 20, 'GWbasic']"
      ]
     },
     "execution_count": 73,
     "metadata": {},
     "output_type": "execute_result"
    }
   ],
   "source": [
    "myList"
   ]
  },
  {
   "cell_type": "code",
   "execution_count": 74,
   "id": "1caf12e2",
   "metadata": {},
   "outputs": [],
   "source": [
    "myList.remove(\"C\")"
   ]
  },
  {
   "cell_type": "code",
   "execution_count": 75,
   "id": "644fe9b7",
   "metadata": {},
   "outputs": [
    {
     "data": {
      "text/plain": [
       "['Python', 10, 20, 'GWbasic']"
      ]
     },
     "execution_count": 75,
     "metadata": {},
     "output_type": "execute_result"
    }
   ],
   "source": [
    "myList"
   ]
  },
  {
   "cell_type": "markdown",
   "id": "35cd9cdd",
   "metadata": {},
   "source": [
    "#Sets - collection of unorderd and unindexed items. Every element in the set has to be unique, it cannot contain duplicate."
   ]
  },
  {
   "cell_type": "code",
   "execution_count": 62,
   "id": "545347fe",
   "metadata": {},
   "outputs": [],
   "source": [
    "Name = {\"Varun\", \"Rajan\", \"Anmol\", \"Varun\"}\n",
    "\n",
    "# () - tuple\n",
    "# [] - list\n",
    "# {} - set"
   ]
  },
  {
   "cell_type": "code",
   "execution_count": 63,
   "id": "44958926",
   "metadata": {},
   "outputs": [
    {
     "data": {
      "text/plain": [
       "{'Anmol', 'Rajan', 'Varun'}"
      ]
     },
     "execution_count": 63,
     "metadata": {},
     "output_type": "execute_result"
    }
   ],
   "source": [
    "Name"
   ]
  },
  {
   "cell_type": "code",
   "execution_count": 76,
   "id": "c5f12824",
   "metadata": {},
   "outputs": [],
   "source": [
    "Name.add(\"Anand\")"
   ]
  },
  {
   "cell_type": "code",
   "execution_count": 77,
   "id": "ce3f41b9",
   "metadata": {},
   "outputs": [
    {
     "data": {
      "text/plain": [
       "{'Anand', 'Anmol', 'Rajan', 'Varun'}"
      ]
     },
     "execution_count": 77,
     "metadata": {},
     "output_type": "execute_result"
    }
   ],
   "source": [
    "Name"
   ]
  },
  {
   "cell_type": "code",
   "execution_count": 86,
   "id": "e1afc7b9",
   "metadata": {},
   "outputs": [],
   "source": [
    "Age  = {23, 22, 32, 40}"
   ]
  },
  {
   "cell_type": "code",
   "execution_count": 87,
   "id": "bcc616b2",
   "metadata": {},
   "outputs": [
    {
     "name": "stdout",
     "output_type": "stream",
     "text": [
      "{'Anmol', 'Varun', 'Anand', 'Rajan'}\n",
      "{32, 40, 22, 23}\n"
     ]
    }
   ],
   "source": [
    "print(Name)\n",
    "print(Age)"
   ]
  },
  {
   "cell_type": "code",
   "execution_count": 88,
   "id": "32467714",
   "metadata": {},
   "outputs": [],
   "source": [
    "Detail = Age.union(Name)"
   ]
  },
  {
   "cell_type": "code",
   "execution_count": 90,
   "id": "c60bdcfe",
   "metadata": {},
   "outputs": [
    {
     "name": "stdout",
     "output_type": "stream",
     "text": [
      "{32, 'Rajan', 40, 'Anmol', 'Anand', 'Varun', 22, 23}\n",
      "{32, 40, 22, 23}\n"
     ]
    }
   ],
   "source": [
    "print(Detail)\n",
    "print(Age)"
   ]
  },
  {
   "cell_type": "code",
   "execution_count": 91,
   "id": "e1bc6997",
   "metadata": {},
   "outputs": [
    {
     "data": {
      "text/plain": [
       "{22, 23, 32, 40}"
      ]
     },
     "execution_count": 91,
     "metadata": {},
     "output_type": "execute_result"
    }
   ],
   "source": [
    "#intersection\n",
    "\n",
    "intersection_of_sets = Detail.intersection(Age)\n",
    "intersection_of_sets"
   ]
  },
  {
   "cell_type": "markdown",
   "id": "818e7ae3",
   "metadata": {},
   "source": [
    "# Conditional Statements"
   ]
  },
  {
   "cell_type": "code",
   "execution_count": 99,
   "id": "883c9504",
   "metadata": {},
   "outputs": [
    {
     "name": "stdout",
     "output_type": "stream",
     "text": [
      "There is a tie!\n"
     ]
    }
   ],
   "source": [
    "A = 10\n",
    "B = 10\n",
    "\n",
    "if A>B:\n",
    "    print(\"A is a boss!\")\n",
    "elif A == B:\n",
    "    print(\"There is a tie!\")\n",
    "elif A == 10:\n",
    "    print(\"Value of A is 10!\")\n",
    "else:\n",
    "    print(\"B is a boss!\")"
   ]
  },
  {
   "cell_type": "markdown",
   "id": "5dc5d73b",
   "metadata": {},
   "source": [
    "# Loops"
   ]
  },
  {
   "cell_type": "markdown",
   "id": "0c0f856d",
   "metadata": {},
   "source": [
    "## While"
   ]
  },
  {
   "cell_type": "code",
   "execution_count": 100,
   "id": "83123992",
   "metadata": {},
   "outputs": [
    {
     "name": "stdout",
     "output_type": "stream",
     "text": [
      "0\n",
      "1\n",
      "2\n",
      "3\n",
      "4\n",
      "5\n"
     ]
    }
   ],
   "source": [
    "iteration = 0\n",
    "\n",
    "while(iteration <= 5):\n",
    "    print(iteration)\n",
    "    iteration = iteration+1"
   ]
  },
  {
   "cell_type": "markdown",
   "id": "e33ee420",
   "metadata": {},
   "source": [
    "## For"
   ]
  },
  {
   "cell_type": "code",
   "execution_count": 103,
   "id": "3901ff5b",
   "metadata": {},
   "outputs": [
    {
     "data": {
      "text/plain": [
       "[0, 1, 2, 3, 4, 5]"
      ]
     },
     "execution_count": 103,
     "metadata": {},
     "output_type": "execute_result"
    }
   ],
   "source": [
    "list(range(6))"
   ]
  },
  {
   "cell_type": "code",
   "execution_count": 104,
   "id": "53934bf8",
   "metadata": {},
   "outputs": [
    {
     "data": {
      "text/plain": [
       "['Python', 10, 20, 'GWbasic']"
      ]
     },
     "execution_count": 104,
     "metadata": {},
     "output_type": "execute_result"
    }
   ],
   "source": [
    "myList # print all the elements in myList"
   ]
  },
  {
   "cell_type": "code",
   "execution_count": 105,
   "id": "967d48cc",
   "metadata": {},
   "outputs": [
    {
     "data": {
      "text/plain": [
       "4"
      ]
     },
     "execution_count": 105,
     "metadata": {},
     "output_type": "execute_result"
    }
   ],
   "source": [
    "len(myList)"
   ]
  },
  {
   "cell_type": "code",
   "execution_count": 108,
   "id": "351500f1",
   "metadata": {},
   "outputs": [
    {
     "name": "stdout",
     "output_type": "stream",
     "text": [
      "Value of i:  0\n",
      "Python\n",
      "Value of i:  1\n",
      "10\n",
      "Value of i:  2\n",
      "20\n",
      "Value of i:  3\n",
      "GWbasic\n"
     ]
    }
   ],
   "source": [
    "for i in range(len(myList)):\n",
    "    print(\"Value of i: \", i)\n",
    "    print(myList[i])"
   ]
  },
  {
   "cell_type": "markdown",
   "id": "8e82d403",
   "metadata": {},
   "source": [
    "## Nested Loop"
   ]
  },
  {
   "cell_type": "code",
   "execution_count": 111,
   "id": "9100b67c",
   "metadata": {},
   "outputs": [
    {
     "name": "stdout",
     "output_type": "stream",
     "text": [
      "* \r\n",
      "* * \r\n",
      "* * * \r\n",
      "* * * * \r\n",
      "* * * * * \r\n"
     ]
    }
   ],
   "source": [
    "n = 5\n",
    "\n",
    "for i in range(n): # denotes the number of lines\n",
    "    for j in range(i+1): #denotes the number of * in a line\n",
    "        print(\"* \", end=\"\")\n",
    "    print(\"\\r\") # this denotes enter key"
   ]
  },
  {
   "cell_type": "markdown",
   "id": "91bd863a",
   "metadata": {},
   "source": [
    "# Functions"
   ]
  },
  {
   "cell_type": "code",
   "execution_count": 1,
   "id": "bd18e2ed",
   "metadata": {},
   "outputs": [
    {
     "data": {
      "text/plain": [
       "100"
      ]
     },
     "execution_count": 1,
     "metadata": {},
     "output_type": "execute_result"
    }
   ],
   "source": [
    "5*2*10"
   ]
  },
  {
   "cell_type": "code",
   "execution_count": 6,
   "id": "032f1716",
   "metadata": {},
   "outputs": [],
   "source": [
    "# write a function to multiply three numbers\n",
    "\n",
    "def multiply(x, y, z):\n",
    "    return x*y*z"
   ]
  },
  {
   "cell_type": "code",
   "execution_count": 7,
   "id": "6cfc21f1",
   "metadata": {},
   "outputs": [
    {
     "name": "stdout",
     "output_type": "stream",
     "text": [
      "100\n"
     ]
    }
   ],
   "source": [
    "result = multiply(5, 2, 10)\n",
    "print(result)"
   ]
  },
  {
   "cell_type": "code",
   "execution_count": 21,
   "id": "41ef0d37",
   "metadata": {},
   "outputs": [],
   "source": [
    "def pattern(n):\n",
    "    for i in range(n): # denotes the number of lines\n",
    "        for j in range(i+1): #denotes the number of * in a line\n",
    "            print(\"* \", end=\"\")\n",
    "        print(\"\\r\") # this denotes enter key"
   ]
  },
  {
   "cell_type": "code",
   "execution_count": 22,
   "id": "6ecaecd8",
   "metadata": {},
   "outputs": [
    {
     "name": "stdout",
     "output_type": "stream",
     "text": [
      "* \r\n",
      "* * \r\n",
      "* * * \r\n"
     ]
    }
   ],
   "source": [
    "pattern(3)"
   ]
  },
  {
   "cell_type": "code",
   "execution_count": 23,
   "id": "1f801038",
   "metadata": {},
   "outputs": [
    {
     "name": "stdout",
     "output_type": "stream",
     "text": [
      "****\b\n"
     ]
    }
   ],
   "source": [
    "print(\"****\\b\")"
   ]
  },
  {
   "cell_type": "code",
   "execution_count": null,
   "id": "8afa78b1",
   "metadata": {},
   "outputs": [],
   "source": []
  }
 ],
 "metadata": {
  "kernelspec": {
   "display_name": "Python 3 (ipykernel)",
   "language": "python",
   "name": "python3"
  },
  "language_info": {
   "codemirror_mode": {
    "name": "ipython",
    "version": 3
   },
   "file_extension": ".py",
   "mimetype": "text/x-python",
   "name": "python",
   "nbconvert_exporter": "python",
   "pygments_lexer": "ipython3",
   "version": "3.9.12"
  }
 },
 "nbformat": 4,
 "nbformat_minor": 5
}
